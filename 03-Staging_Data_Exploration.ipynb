{
 "cells": [
  {
   "cell_type": "code",
   "execution_count": 95,
   "metadata": {},
   "outputs": [],
   "source": [
    "import pandas as pd\n",
    "import numpy as np \n",
    "import sklearn as sk\n",
    "import seaborn as sns\n",
    "import pyodbc\n",
    "from sqlalchemy import create_engine\n",
    "import matplotlib.pyplot as plt\n",
    "from tabulate import tabulate"
   ]
  },
  {
   "cell_type": "markdown",
   "metadata": {},
   "source": [
    "# Querying Data From Azure SQL Database"
   ]
  },
  {
   "cell_type": "code",
   "execution_count": 2,
   "metadata": {},
   "outputs": [],
   "source": [
    "#Connection Details\n",
    "SERVER = 'tx-dot-dev-sqlsvr.database.windows.net'\n",
    "DATABASE = 'TX-DOT-DEV-DB'\n",
    "USERNAME = 'sysadmin'\n",
    "PWD = 'N0ru_Mu5k09a9'\n",
    "TABLE = \"Public_Project_Data\"\n",
    "\n",
    "driver= '{ODBC Driver 17 for SQL Server}'  "
   ]
  },
  {
   "cell_type": "code",
   "execution_count": 3,
   "metadata": {},
   "outputs": [],
   "source": [
    "connection_string = 'DRIVER=' + driver + \\\n",
    "                    ';SERVER=' + SERVER + \\\n",
    "                    ';PORT=1433' + \\\n",
    "                    ';DATABASE=' + DATABASE + \\\n",
    "                    ';UID=' + USERNAME + \\\n",
    "                    ';PWD=' + PWD"
   ]
  },
  {
   "cell_type": "code",
   "execution_count": 4,
   "metadata": {},
   "outputs": [],
   "source": [
    "# Converts Data From Database Table to a DataFrame\n",
    "\n",
    "sql = 'SELECT * FROM [stg].[Analysis_Ready_Data]'\n",
    "conn = pyodbc.connect(connection_string)\n",
    "cursor = conn.cursor()\n",
    "df = pd.read_sql(sql, conn)"
   ]
  },
  {
   "cell_type": "code",
   "execution_count": 5,
   "metadata": {
    "scrolled": false
   },
   "outputs": [
    {
     "data": {
      "text/html": [
       "<div>\n",
       "<style scoped>\n",
       "    .dataframe tbody tr th:only-of-type {\n",
       "        vertical-align: middle;\n",
       "    }\n",
       "\n",
       "    .dataframe tbody tr th {\n",
       "        vertical-align: top;\n",
       "    }\n",
       "\n",
       "    .dataframe thead th {\n",
       "        text-align: right;\n",
       "    }\n",
       "</style>\n",
       "<table border=\"1\" class=\"dataframe\">\n",
       "  <thead>\n",
       "    <tr style=\"text-align: right;\">\n",
       "      <th></th>\n",
       "      <th>index</th>\n",
       "      <th>county</th>\n",
       "      <th>let_date</th>\n",
       "      <th>type</th>\n",
       "      <th>time</th>\n",
       "      <th>highway</th>\n",
       "      <th>length</th>\n",
       "      <th>check</th>\n",
       "      <th>misc_cost</th>\n",
       "      <th>estimate</th>\n",
       "      <th>bid</th>\n",
       "      <th>over/under</th>\n",
       "      <th>bidder</th>\n",
       "      <th>winning_bidder</th>\n",
       "      <th>date_accessed</th>\n",
       "      <th>id</th>\n",
       "    </tr>\n",
       "  </thead>\n",
       "  <tbody>\n",
       "    <tr>\n",
       "      <th>0</th>\n",
       "      <td>0</td>\n",
       "      <td>HOWARD</td>\n",
       "      <td>2015-05-05</td>\n",
       "      <td>EMB, EXC, STRS,  SET, SURF, MBGF</td>\n",
       "      <td>311 WORKING DAYS</td>\n",
       "      <td>FM 846</td>\n",
       "      <td>25.898</td>\n",
       "      <td>100000.0</td>\n",
       "      <td>15000.0</td>\n",
       "      <td>10710570.05</td>\n",
       "      <td>9519743.52</td>\n",
       "      <td>-11.12</td>\n",
       "      <td>SBBI, INC.</td>\n",
       "      <td>SBBI, INC.</td>\n",
       "      <td>2019-06-21</td>\n",
       "      <td>3055</td>\n",
       "    </tr>\n",
       "    <tr>\n",
       "      <th>1</th>\n",
       "      <td>1</td>\n",
       "      <td>HOWARD</td>\n",
       "      <td>2015-05-05</td>\n",
       "      <td>EMB, EXC, STRS,  SET, SURF, MBGF</td>\n",
       "      <td>311 WORKING DAYS</td>\n",
       "      <td>FM 846</td>\n",
       "      <td>25.898</td>\n",
       "      <td>100000.0</td>\n",
       "      <td>15000.0</td>\n",
       "      <td>10710570.05</td>\n",
       "      <td>10089270.77</td>\n",
       "      <td>-5.80</td>\n",
       "      <td>DELHUR INDUSTRIES, INC.</td>\n",
       "      <td>SBBI, INC.</td>\n",
       "      <td>2019-06-21</td>\n",
       "      <td>3055</td>\n",
       "    </tr>\n",
       "    <tr>\n",
       "      <th>2</th>\n",
       "      <td>2</td>\n",
       "      <td>HOWARD</td>\n",
       "      <td>2015-05-05</td>\n",
       "      <td>EMB, EXC, STRS,  SET, SURF, MBGF</td>\n",
       "      <td>311 WORKING DAYS</td>\n",
       "      <td>FM 846</td>\n",
       "      <td>25.898</td>\n",
       "      <td>100000.0</td>\n",
       "      <td>15000.0</td>\n",
       "      <td>10710570.05</td>\n",
       "      <td>11121238.96</td>\n",
       "      <td>+3.83</td>\n",
       "      <td>REECE ALBERT, INC.</td>\n",
       "      <td>SBBI, INC.</td>\n",
       "      <td>2019-06-21</td>\n",
       "      <td>3055</td>\n",
       "    </tr>\n",
       "    <tr>\n",
       "      <th>3</th>\n",
       "      <td>3</td>\n",
       "      <td>HOWARD</td>\n",
       "      <td>2015-05-05</td>\n",
       "      <td>EMB, EXC, STRS,  SET, SURF, MBGF</td>\n",
       "      <td>311 WORKING DAYS</td>\n",
       "      <td>FM 846</td>\n",
       "      <td>25.898</td>\n",
       "      <td>100000.0</td>\n",
       "      <td>15000.0</td>\n",
       "      <td>10710570.05</td>\n",
       "      <td>11698754.12</td>\n",
       "      <td>+9.23</td>\n",
       "      <td>PRICE CONSTRUCTION, LTD.</td>\n",
       "      <td>SBBI, INC.</td>\n",
       "      <td>2019-06-21</td>\n",
       "      <td>3055</td>\n",
       "    </tr>\n",
       "    <tr>\n",
       "      <th>4</th>\n",
       "      <td>4</td>\n",
       "      <td>HOWARD</td>\n",
       "      <td>2015-05-05</td>\n",
       "      <td>EMB, EXC, STRS,  SET, SURF, MBGF</td>\n",
       "      <td>311 WORKING DAYS</td>\n",
       "      <td>FM 846</td>\n",
       "      <td>25.898</td>\n",
       "      <td>100000.0</td>\n",
       "      <td>15000.0</td>\n",
       "      <td>10710570.05</td>\n",
       "      <td>13838689.93</td>\n",
       "      <td>+29.21</td>\n",
       "      <td>ALLEN BUTLER CONSTRUCTION, INC.</td>\n",
       "      <td>SBBI, INC.</td>\n",
       "      <td>2019-06-21</td>\n",
       "      <td>3055</td>\n",
       "    </tr>\n",
       "  </tbody>\n",
       "</table>\n",
       "</div>"
      ],
      "text/plain": [
       "   index  county    let_date                              type  \\\n",
       "0      0  HOWARD  2015-05-05  EMB, EXC, STRS,  SET, SURF, MBGF   \n",
       "1      1  HOWARD  2015-05-05  EMB, EXC, STRS,  SET, SURF, MBGF   \n",
       "2      2  HOWARD  2015-05-05  EMB, EXC, STRS,  SET, SURF, MBGF   \n",
       "3      3  HOWARD  2015-05-05  EMB, EXC, STRS,  SET, SURF, MBGF   \n",
       "4      4  HOWARD  2015-05-05  EMB, EXC, STRS,  SET, SURF, MBGF   \n",
       "\n",
       "               time highway  length     check  misc_cost     estimate  \\\n",
       "0  311 WORKING DAYS  FM 846  25.898  100000.0    15000.0  10710570.05   \n",
       "1  311 WORKING DAYS  FM 846  25.898  100000.0    15000.0  10710570.05   \n",
       "2  311 WORKING DAYS  FM 846  25.898  100000.0    15000.0  10710570.05   \n",
       "3  311 WORKING DAYS  FM 846  25.898  100000.0    15000.0  10710570.05   \n",
       "4  311 WORKING DAYS  FM 846  25.898  100000.0    15000.0  10710570.05   \n",
       "\n",
       "           bid over/under                           bidder winning_bidder  \\\n",
       "0   9519743.52     -11.12                       SBBI, INC.     SBBI, INC.   \n",
       "1  10089270.77      -5.80          DELHUR INDUSTRIES, INC.     SBBI, INC.   \n",
       "2  11121238.96      +3.83               REECE ALBERT, INC.     SBBI, INC.   \n",
       "3  11698754.12      +9.23         PRICE CONSTRUCTION, LTD.     SBBI, INC.   \n",
       "4  13838689.93     +29.21  ALLEN BUTLER CONSTRUCTION, INC.     SBBI, INC.   \n",
       "\n",
       "  date_accessed    id  \n",
       "0    2019-06-21  3055  \n",
       "1    2019-06-21  3055  \n",
       "2    2019-06-21  3055  \n",
       "3    2019-06-21  3055  \n",
       "4    2019-06-21  3055  "
      ]
     },
     "execution_count": 5,
     "metadata": {},
     "output_type": "execute_result"
    }
   ],
   "source": [
    "df.head(n=5)"
   ]
  },
  {
   "cell_type": "code",
   "execution_count": 7,
   "metadata": {
    "scrolled": true
   },
   "outputs": [
    {
     "name": "stdout",
     "output_type": "stream",
     "text": [
      "<class 'pandas.core.frame.DataFrame'>\n",
      "RangeIndex: 18952 entries, 0 to 18951\n",
      "Data columns (total 16 columns):\n",
      "index             18952 non-null int64\n",
      "county            18952 non-null object\n",
      "let_date          18952 non-null object\n",
      "type              18952 non-null object\n",
      "time              18952 non-null object\n",
      "highway           18952 non-null object\n",
      "length            18952 non-null float64\n",
      "check             18952 non-null float64\n",
      "misc_cost         18952 non-null float64\n",
      "estimate          18952 non-null float64\n",
      "bid               18952 non-null float64\n",
      "over/under        18952 non-null object\n",
      "bidder            18952 non-null object\n",
      "winning_bidder    18952 non-null object\n",
      "date_accessed     18952 non-null object\n",
      "id                18952 non-null int64\n",
      "dtypes: float64(5), int64(2), object(9)\n",
      "memory usage: 2.3+ MB\n"
     ]
    }
   ],
   "source": [
    "df.info()"
   ]
  },
  {
   "cell_type": "code",
   "execution_count": 82,
   "metadata": {},
   "outputs": [
    {
     "name": "stdout",
     "output_type": "stream",
     "text": [
      "\u001b[1mNumber of Null Objects by Column \u001b[0m\n"
     ]
    },
    {
     "data": {
      "text/plain": [
       "index             0\n",
       "county            0\n",
       "let_date          0\n",
       "type              0\n",
       "time              0\n",
       "highway           0\n",
       "length            0\n",
       "check             0\n",
       "misc_cost         0\n",
       "estimate          0\n",
       "bid               0\n",
       "over/under        0\n",
       "bidder            0\n",
       "winning_bidder    0\n",
       "date_accessed     0\n",
       "id                0\n",
       "dtype: int64"
      ]
     },
     "execution_count": 82,
     "metadata": {},
     "output_type": "execute_result"
    }
   ],
   "source": [
    "print('\\033[1m' + 'Number of Null Objects by Column ' + '\\033[0m')\n",
    "df.isnull().sum()"
   ]
  },
  {
   "cell_type": "code",
   "execution_count": 84,
   "metadata": {},
   "outputs": [],
   "source": [
    "df['unique_id']  = df['let_date'].astype(str)+df['id'].astype(str)"
   ]
  },
  {
   "cell_type": "code",
   "execution_count": 88,
   "metadata": {},
   "outputs": [
    {
     "name": "stdout",
     "output_type": "stream",
     "text": [
      "╒═══════════════════════════════════════╕\n",
      "│ Number of Unique Counties: 249        │\n",
      "├───────────────────────────────────────┤\n",
      "│ Number of Unique Bidders: 714         │\n",
      "├───────────────────────────────────────┤\n",
      "│ Number of Unique Winning_Bidders: 544 │\n",
      "├───────────────────────────────────────┤\n",
      "│ Number of Unique Project Types: 2159  │\n",
      "├───────────────────────────────────────┤\n",
      "│ Number of Unique Project: 4195        │\n",
      "╘═══════════════════════════════════════╛\n"
     ]
    }
   ],
   "source": [
    "print(tabulate([['Number of Unique Counties: %d' %(df['county'].nunique())],['Number of Unique Bidders: %d' %(df['bidder'].nunique())]\n",
    "                ,['Number of Unique Winning_Bidders: %d' %(df['winning_bidder'].nunique())],['Number of Unique Project Types: %d' %(df['type'].nunique())]\n",
    "                ,['Number of Unique Project: %d' %(df['unique_id'].nunique())]],numalign=\"right\",tablefmt=\"fancy_grid\"))"
   ]
  },
  {
   "cell_type": "code",
   "execution_count": 81,
   "metadata": {},
   "outputs": [
    {
     "name": "stdout",
     "output_type": "stream",
     "text": [
      "\u001b[1mOrdered by Number of Occurences\u001b[0m\n",
      "╒══════════════════════════════════════╤════════════════════════════════════════╤══════════════════════════════════════╕\n",
      "│ Bidder                               │ Winning Bidder                         │ Type                                 │\n",
      "╞══════════════════════════════════════╪════════════════════════════════════════╪══════════════════════════════════════╡\n",
      "│ FNH CONSTRUCTION, LLC            665 │ ANGEL BROTHERS HOLDINGS CORP.      460 │ REPLACE BRIDGE AND APPROACHES    868 │\n",
      "│ ANGEL BROTHERS HOLDINGS CORP.    492 │ HUNTER INDUSTRIES, LTD.            373 │ SAFETY TREAT FIXED OBJECTS       313 │\n",
      "│ CHAMPION INFRASTRUCTURE, LLC     382 │ KNIFE RIVER CORPORATION - SOUTH    291 │ OVERLAY                          186 │\n",
      "│ HUNTER INDUSTRIES, LTD.          272 │ BIG CREEK CONSTRUCTION, LTD.       275 │ SEAL COAT                        175 │\n",
      "│ A. L. HELMCAMP, INC.             268 │ STATELINE CONSTRUCTION, LLC        267 │ BRIDGE REPLACEMENT               172 │\n",
      "│ Name: bidder, dtype: int64           │ Name: winning_bidder, dtype: int64     │ Name: type, dtype: int64             │\n",
      "╘══════════════════════════════════════╧════════════════════════════════════════╧══════════════════════════════════════╛\n"
     ]
    }
   ],
   "source": [
    "tabulate.PRESERVE_WHITESPACE = True\n",
    "tabulate.WIDE_CHARS_MODE = False\n",
    "print('\\033[1m' + 'Ordered by Number of Occurences' + '\\033[0m')\n",
    "print(tabulate([[df['bidder'].value_counts().nlargest(5),df['winning_bidder'].value_counts().nlargest(5),df['type'].value_counts().nlargest(5)]], headers=['Bidder', 'Winning Bidder', 'Type'],numalign=\"right\",tablefmt=\"fancy_grid\"))"
   ]
  },
  {
   "cell_type": "code",
   "execution_count": 55,
   "metadata": {},
   "outputs": [
    {
     "name": "stdout",
     "output_type": "stream",
     "text": [
      "╒═══════════════════════════╤════════════════════════════════╤══════════════════════════════╕\n",
      "│ Bid Info                  │ Estimate Info                  │ Length Info                  │\n",
      "╞═══════════════════════════╪════════════════════════════════╪══════════════════════════════╡\n",
      "│ count    1.895200e+04     │ count    1.895200e+04          │ count    18952.000000        │\n",
      "│ mean     5.481644e+06     │ mean     4.932863e+06          │ mean        12.220253        │\n",
      "│ std      2.255999e+07     │ std      1.815259e+07          │ std         56.027647        │\n",
      "│ min      1.000000e-02     │ min      5.376000e+03          │ min          0.000000        │\n",
      "│ 25%      4.209439e+05     │ 25%      3.627720e+05          │ 25%          0.001000        │\n",
      "│ 50%      1.164830e+06     │ 50%      1.025040e+06          │ 50%          0.300000        │\n",
      "│ 75%      3.520231e+06     │ 75%      3.283657e+06          │ 75%          4.806000        │\n",
      "│ max      1.104602e+09     │ max      4.578352e+08          │ max        999.990000        │\n",
      "│ Name: bid, dtype: float64 │ Name: estimate, dtype: float64 │ Name: length, dtype: float64 │\n",
      "╘═══════════════════════════╧════════════════════════════════╧══════════════════════════════╛\n"
     ]
    }
   ],
   "source": [
    "print(tabulate([[df['bid'].describe(),df['estimate'].describe(),df['length'].describe()]], headers=['Bid Info', 'Estimate Info', 'Length Info'],numalign=\"right\",tablefmt=\"fancy_grid\"))"
   ]
  },
  {
   "cell_type": "code",
   "execution_count": 80,
   "metadata": {},
   "outputs": [
    {
     "data": {
      "text/plain": [
       "<matplotlib.axes._subplots.AxesSubplot at 0x2c5573ca320>"
      ]
     },
     "execution_count": 80,
     "metadata": {},
     "output_type": "execute_result"
    },
    {
     "data": {
      "image/png": "[encoded data removed]",
      "text/plain": [
       "<Figure size 432x288 with 1 Axes>"
      ]
     },
     "metadata": {
      "needs_background": "light"
     },
     "output_type": "display_data"
    }
   ],
   "source": [
    "df.boxplot(column=['bid', 'estimate'])"
   ]
  },
  {
   "cell_type": "code",
   "execution_count": 99,
   "metadata": {},
   "outputs": [
    {
     "data": {
      "image/png": "[encoded data removed]",
      "text/plain": [
       "<Figure size 432x288 with 1 Axes>"
      ]
     },
     "metadata": {
      "needs_background": "light"
     },
     "output_type": "display_data"
    }
   ],
   "source": [
    "sns.distplot( df[\"estimate\"] , color=\"skyblue\", label=\"Estimate Value\")\n",
    "sns.distplot( df[\"bid\"] , color=\"red\", label=\"Bid Value\")\n",
    "plt.legend()\n",
    "plt.show()"
   ]
  },
  {
   "cell_type": "code",
   "execution_count": 77,
   "metadata": {},
   "outputs": [
    {
     "data": {
      "text/plain": [
       "<matplotlib.axes._subplots.AxesSubplot at 0x2c556aaf198>"
      ]
     },
     "execution_count": 77,
     "metadata": {},
     "output_type": "execute_result"
    },
    {
     "data": {
      "image/png": "[encoded data removed]",
      "text/plain": [
       "<Figure size 432x288 with 1 Axes>"
      ]
     },
     "metadata": {
      "needs_background": "light"
     },
     "output_type": "display_data"
    }
   ],
   "source": [
    "df.plot(kind='scatter',x='estimate',y='bid',color='orange',title='Scatter Plot of Bid and Estimate')"
   ]
  },
  {
   "cell_type": "code",
   "execution_count": 71,
   "metadata": {},
   "outputs": [
    {
     "name": "stdout",
     "output_type": "stream",
     "text": [
      "\u001b[1mNumber of Outliers by Column\u001b[0m\n"
     ]
    },
    {
     "data": {
      "text/plain": [
       "bid               2361\n",
       "bidder               0\n",
       "check                0\n",
       "county               0\n",
       "date_accessed        0\n",
       "estimate          2357\n",
       "highway              0\n",
       "id                7553\n",
       "index                0\n",
       "length            2411\n",
       "let_date             0\n",
       "misc_cost         2682\n",
       "over/under           0\n",
       "time                 0\n",
       "type                 0\n",
       "winning_bidder       0\n",
       "dtype: int64"
      ]
     },
     "execution_count": 71,
     "metadata": {},
     "output_type": "execute_result"
    }
   ],
   "source": [
    "print('\\033[1m' + 'Number of Outliers by Column' + '\\033[0m')\n",
    "\n",
    "Q1 = df.quantile(0.25)\n",
    "Q3 = df.quantile(0.75)\n",
    "IQR = Q3 - Q1\n",
    "((df < (Q1 - 1.5 * IQR)) | (df > (Q3 + 1.5 * IQR))).sum()"
   ]
  }
 ],
 "metadata": {
  "kernelspec": {
   "display_name": "Python 3",
   "language": "python",
   "name": "python3"
  },
  "language_info": {
   "codemirror_mode": {
    "name": "ipython",
    "version": 3
   },
   "file_extension": ".py",
   "mimetype": "text/x-python",
   "name": "python",
   "nbconvert_exporter": "python",
   "pygments_lexer": "ipython3",
   "version": "3.7.3"
  }
 },
 "nbformat": 4,
 "nbformat_minor": 2
}
